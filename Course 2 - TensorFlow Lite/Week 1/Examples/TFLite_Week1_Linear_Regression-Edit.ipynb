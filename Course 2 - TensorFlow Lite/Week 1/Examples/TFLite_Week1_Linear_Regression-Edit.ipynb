{
 "cells": [
  {
   "cell_type": "markdown",
   "metadata": {
    "colab_type": "text",
    "id": "UysiGN3tGQHY"
   },
   "source": [
    "# Running TFLite models"
   ]
  },
  {
   "cell_type": "markdown",
   "metadata": {
    "colab_type": "text",
    "id": "2hOrvdmswy5O"
   },
   "source": [
    "<table class=\"tfo-notebook-buttons\" align=\"left\">\n",
    "  <td>\n",
    "    <a target=\"_blank\" href=\"https://colab.research.google.com/github/lmoroney/dlaicourse/blob/master/TensorFlow%20Deployment/Course%202%20-%20TensorFlow%20Lite/Week%201/Examples/TFLite_Week1_Linear_Regression.ipynb\">\n",
    "    <img src=\"https://www.tensorflow.org/images/colab_logo_32px.png\" />\n",
    "    Run in Google Colab</a>\n",
    "  </td>\n",
    "  <td>\n",
    "    <a target=\"_blank\" href=\"https://github.com/lmoroney/dlaicourse/blob/master/TensorFlow%20Deployment/Course%202%20-%20TensorFlow%20Lite/Week%201/Examples/TFLite_Week1_Linear_Regression.ipynb\">\n",
    "    <img src=\"https://www.tensorflow.org/images/GitHub-Mark-32px.png\" />\n",
    "    View source on GitHub</a>\n",
    "  </td>\n",
    "</table>"
   ]
  },
  {
   "cell_type": "markdown",
   "metadata": {},
   "source": [
    "## Install Libs"
   ]
  },
  {
   "cell_type": "code",
   "execution_count": 1,
   "metadata": {},
   "outputs": [],
   "source": [
    "!pip install --upgrade -q tensorflow-gpu==2.0.0-beta1"
   ]
  },
  {
   "cell_type": "markdown",
   "metadata": {
    "colab_type": "text",
    "id": "W-VhTkyTGcaQ"
   },
   "source": [
    "## Setup"
   ]
  },
  {
   "cell_type": "code",
   "execution_count": 2,
   "metadata": {
    "colab": {},
    "colab_type": "code",
    "id": "dy4BcTjBFTWx"
   },
   "outputs": [
    {
     "name": "stdout",
     "output_type": "stream",
     "text": [
      "• Using TensorFlow Version: 2.0.0-beta1\n"
     ]
    }
   ],
   "source": [
    "import pathlib\n",
    "import numpy as np\n",
    "import matplotlib.pyplot as plt\n",
    "\n",
    "import tensorflow as tf\n",
    "\n",
    "print('\\u2022 Using TensorFlow Version:', tf.__version__)"
   ]
  },
  {
   "cell_type": "markdown",
   "metadata": {
    "colab_type": "text",
    "id": "ceibQLDeGhI4"
   },
   "source": [
    "## Create a Basic Model of the Form y = mx + c"
   ]
  },
  {
   "cell_type": "code",
   "execution_count": 3,
   "metadata": {
    "colab": {},
    "colab_type": "code",
    "id": "YIBCsjQNF46Z"
   },
   "outputs": [
    {
     "name": "stdout",
     "output_type": "stream",
     "text": [
      "Model: \"model\"\n",
      "_________________________________________________________________\n",
      "Layer (type)                 Output Shape              Param #   \n",
      "=================================================================\n",
      "input (InputLayer)           [(None, 1)]               0         \n",
      "_________________________________________________________________\n",
      "dense (Dense)                (None, 1)                 2         \n",
      "=================================================================\n",
      "Total params: 2\n",
      "Trainable params: 2\n",
      "Non-trainable params: 0\n",
      "_________________________________________________________________\n"
     ]
    },
    {
     "data": {
      "text/plain": [
       "None"
      ]
     },
     "metadata": {},
     "output_type": "display_data"
    },
    {
     "name": "stdout",
     "output_type": "stream",
     "text": [
      "Train on 6 samples\n",
      "Epoch 1/200\n",
      "6/6 [==============================] - 0s 12ms/sample - loss: 34.0598\n",
      "Epoch 2/200\n",
      "6/6 [==============================] - 0s 497us/sample - loss: 27.1270\n",
      "Epoch 3/200\n",
      "6/6 [==============================] - 0s 394us/sample - loss: 21.6658\n",
      "Epoch 4/200\n",
      "6/6 [==============================] - 0s 266us/sample - loss: 17.3625\n",
      "Epoch 5/200\n",
      "6/6 [==============================] - 0s 246us/sample - loss: 13.9704\n",
      "Epoch 6/200\n",
      "6/6 [==============================] - 0s 167us/sample - loss: 11.2953\n",
      "Epoch 7/200\n",
      "6/6 [==============================] - 0s 207us/sample - loss: 9.1844\n",
      "Epoch 8/200\n",
      "6/6 [==============================] - 0s 227us/sample - loss: 7.5176\n",
      "Epoch 9/200\n",
      "6/6 [==============================] - 0s 259us/sample - loss: 6.2002\n",
      "Epoch 10/200\n",
      "6/6 [==============================] - 0s 219us/sample - loss: 5.1578\n",
      "Epoch 11/200\n",
      "6/6 [==============================] - 0s 139us/sample - loss: 4.3320\n",
      "Epoch 12/200\n",
      "6/6 [==============================] - 0s 127us/sample - loss: 3.6767\n",
      "Epoch 13/200\n",
      "6/6 [==============================] - 0s 141us/sample - loss: 3.1556\n",
      "Epoch 14/200\n",
      "6/6 [==============================] - 0s 128us/sample - loss: 2.7402\n",
      "Epoch 15/200\n",
      "6/6 [==============================] - 0s 147us/sample - loss: 2.4081\n",
      "Epoch 16/200\n",
      "6/6 [==============================] - 0s 147us/sample - loss: 2.1416\n",
      "Epoch 17/200\n",
      "6/6 [==============================] - 0s 134us/sample - loss: 1.9269\n",
      "Epoch 18/200\n",
      "6/6 [==============================] - 0s 145us/sample - loss: 1.7530\n",
      "Epoch 19/200\n",
      "6/6 [==============================] - 0s 150us/sample - loss: 1.6114\n",
      "Epoch 20/200\n",
      "6/6 [==============================] - 0s 144us/sample - loss: 1.4951\n",
      "Epoch 21/200\n",
      "6/6 [==============================] - 0s 138us/sample - loss: 1.3990\n",
      "Epoch 22/200\n",
      "6/6 [==============================] - 0s 132us/sample - loss: 1.3188\n",
      "Epoch 23/200\n",
      "6/6 [==============================] - 0s 147us/sample - loss: 1.2512\n",
      "Epoch 24/200\n",
      "6/6 [==============================] - 0s 153us/sample - loss: 1.1937\n",
      "Epoch 25/200\n",
      "6/6 [==============================] - 0s 143us/sample - loss: 1.1441\n",
      "Epoch 26/200\n",
      "6/6 [==============================] - 0s 149us/sample - loss: 1.1009\n",
      "Epoch 27/200\n",
      "6/6 [==============================] - 0s 151us/sample - loss: 1.0628\n",
      "Epoch 28/200\n",
      "6/6 [==============================] - 0s 151us/sample - loss: 1.0287\n",
      "Epoch 29/200\n",
      "6/6 [==============================] - 0s 153us/sample - loss: 0.9980\n",
      "Epoch 30/200\n",
      "6/6 [==============================] - 0s 142us/sample - loss: 0.9699\n",
      "Epoch 31/200\n",
      "6/6 [==============================] - 0s 141us/sample - loss: 0.9441\n",
      "Epoch 32/200\n",
      "6/6 [==============================] - 0s 146us/sample - loss: 0.9200\n",
      "Epoch 33/200\n",
      "6/6 [==============================] - 0s 156us/sample - loss: 0.8974\n",
      "Epoch 34/200\n",
      "6/6 [==============================] - 0s 151us/sample - loss: 0.8761\n",
      "Epoch 35/200\n",
      "6/6 [==============================] - 0s 133us/sample - loss: 0.8558\n",
      "Epoch 36/200\n",
      "6/6 [==============================] - 0s 143us/sample - loss: 0.8365\n",
      "Epoch 37/200\n",
      "6/6 [==============================] - 0s 147us/sample - loss: 0.8179\n",
      "Epoch 38/200\n",
      "6/6 [==============================] - 0s 138us/sample - loss: 0.8000\n",
      "Epoch 39/200\n",
      "6/6 [==============================] - 0s 141us/sample - loss: 0.7827\n",
      "Epoch 40/200\n",
      "6/6 [==============================] - 0s 137us/sample - loss: 0.7659\n",
      "Epoch 41/200\n",
      "6/6 [==============================] - 0s 133us/sample - loss: 0.7496\n",
      "Epoch 42/200\n",
      "6/6 [==============================] - 0s 163us/sample - loss: 0.7338\n",
      "Epoch 43/200\n",
      "6/6 [==============================] - 0s 137us/sample - loss: 0.7184\n",
      "Epoch 44/200\n",
      "6/6 [==============================] - 0s 137us/sample - loss: 0.7034\n",
      "Epoch 45/200\n",
      "6/6 [==============================] - 0s 160us/sample - loss: 0.6887\n",
      "Epoch 46/200\n",
      "6/6 [==============================] - 0s 155us/sample - loss: 0.6744\n",
      "Epoch 47/200\n",
      "6/6 [==============================] - 0s 164us/sample - loss: 0.6604\n",
      "Epoch 48/200\n",
      "6/6 [==============================] - 0s 162us/sample - loss: 0.6468\n",
      "Epoch 49/200\n",
      "6/6 [==============================] - 0s 152us/sample - loss: 0.6334\n",
      "Epoch 50/200\n",
      "6/6 [==============================] - 0s 150us/sample - loss: 0.6203\n",
      "Epoch 51/200\n",
      "6/6 [==============================] - 0s 149us/sample - loss: 0.6075\n",
      "Epoch 52/200\n",
      "6/6 [==============================] - 0s 153us/sample - loss: 0.5950\n",
      "Epoch 53/200\n",
      "6/6 [==============================] - 0s 132us/sample - loss: 0.5828\n",
      "Epoch 54/200\n",
      "6/6 [==============================] - 0s 155us/sample - loss: 0.5708\n",
      "Epoch 55/200\n",
      "6/6 [==============================] - 0s 146us/sample - loss: 0.5590\n",
      "Epoch 56/200\n",
      "6/6 [==============================] - 0s 140us/sample - loss: 0.5475\n",
      "Epoch 57/200\n",
      "6/6 [==============================] - 0s 141us/sample - loss: 0.5363\n",
      "Epoch 58/200\n",
      "6/6 [==============================] - 0s 124us/sample - loss: 0.5253\n",
      "Epoch 59/200\n",
      "6/6 [==============================] - 0s 134us/sample - loss: 0.5145\n",
      "Epoch 60/200\n",
      "6/6 [==============================] - 0s 145us/sample - loss: 0.5039\n",
      "Epoch 61/200\n",
      "6/6 [==============================] - 0s 140us/sample - loss: 0.4935\n",
      "Epoch 62/200\n",
      "6/6 [==============================] - 0s 123us/sample - loss: 0.4834\n",
      "Epoch 63/200\n",
      "6/6 [==============================] - 0s 130us/sample - loss: 0.4735\n",
      "Epoch 64/200\n",
      "6/6 [==============================] - 0s 132us/sample - loss: 0.4637\n",
      "Epoch 65/200\n",
      "6/6 [==============================] - 0s 152us/sample - loss: 0.4542\n",
      "Epoch 66/200\n",
      "6/6 [==============================] - 0s 153us/sample - loss: 0.4449\n",
      "Epoch 67/200\n",
      "6/6 [==============================] - 0s 151us/sample - loss: 0.4357\n",
      "Epoch 68/200\n",
      "6/6 [==============================] - 0s 140us/sample - loss: 0.4268\n",
      "Epoch 69/200\n",
      "6/6 [==============================] - 0s 145us/sample - loss: 0.4180\n",
      "Epoch 70/200\n",
      "6/6 [==============================] - 0s 156us/sample - loss: 0.4094\n",
      "Epoch 71/200\n",
      "6/6 [==============================] - 0s 166us/sample - loss: 0.4010\n",
      "Epoch 72/200\n",
      "6/6 [==============================] - 0s 158us/sample - loss: 0.3928\n",
      "Epoch 73/200\n",
      "6/6 [==============================] - 0s 139us/sample - loss: 0.3847\n",
      "Epoch 74/200\n",
      "6/6 [==============================] - 0s 128us/sample - loss: 0.3768\n",
      "Epoch 75/200\n",
      "6/6 [==============================] - 0s 148us/sample - loss: 0.3691\n",
      "Epoch 76/200\n",
      "6/6 [==============================] - 0s 179us/sample - loss: 0.3615\n",
      "Epoch 77/200\n",
      "6/6 [==============================] - 0s 153us/sample - loss: 0.3541\n",
      "Epoch 78/200\n",
      "6/6 [==============================] - 0s 133us/sample - loss: 0.3468\n",
      "Epoch 79/200\n",
      "6/6 [==============================] - 0s 147us/sample - loss: 0.3397\n",
      "Epoch 80/200\n",
      "6/6 [==============================] - 0s 147us/sample - loss: 0.3327\n",
      "Epoch 81/200\n",
      "6/6 [==============================] - 0s 148us/sample - loss: 0.3259\n",
      "Epoch 82/200\n",
      "6/6 [==============================] - 0s 140us/sample - loss: 0.3192\n",
      "Epoch 83/200\n",
      "6/6 [==============================] - 0s 140us/sample - loss: 0.3126\n",
      "Epoch 84/200\n",
      "6/6 [==============================] - 0s 158us/sample - loss: 0.3062\n",
      "Epoch 85/200\n",
      "6/6 [==============================] - 0s 152us/sample - loss: 0.2999\n",
      "Epoch 86/200\n",
      "6/6 [==============================] - 0s 145us/sample - loss: 0.2937\n",
      "Epoch 87/200\n",
      "6/6 [==============================] - 0s 141us/sample - loss: 0.2877\n",
      "Epoch 88/200\n",
      "6/6 [==============================] - 0s 142us/sample - loss: 0.2818\n",
      "Epoch 89/200\n",
      "6/6 [==============================] - 0s 147us/sample - loss: 0.2760\n",
      "Epoch 90/200\n",
      "6/6 [==============================] - 0s 148us/sample - loss: 0.2703\n",
      "Epoch 91/200\n",
      "6/6 [==============================] - 0s 154us/sample - loss: 0.2648\n",
      "Epoch 92/200\n",
      "6/6 [==============================] - 0s 151us/sample - loss: 0.2593\n",
      "Epoch 93/200\n",
      "6/6 [==============================] - 0s 133us/sample - loss: 0.2540\n",
      "Epoch 94/200\n",
      "6/6 [==============================] - 0s 141us/sample - loss: 0.2488\n",
      "Epoch 95/200\n",
      "6/6 [==============================] - 0s 148us/sample - loss: 0.2437\n",
      "Epoch 96/200\n",
      "6/6 [==============================] - 0s 144us/sample - loss: 0.2387\n",
      "Epoch 97/200\n",
      "6/6 [==============================] - 0s 151us/sample - loss: 0.2338\n",
      "Epoch 98/200\n",
      "6/6 [==============================] - 0s 137us/sample - loss: 0.2290\n",
      "Epoch 99/200\n",
      "6/6 [==============================] - 0s 161us/sample - loss: 0.2243\n"
     ]
    },
    {
     "name": "stdout",
     "output_type": "stream",
     "text": [
      "Epoch 100/200\n",
      "6/6 [==============================] - 0s 161us/sample - loss: 0.2197\n",
      "Epoch 101/200\n",
      "6/6 [==============================] - 0s 163us/sample - loss: 0.2152\n",
      "Epoch 102/200\n",
      "6/6 [==============================] - 0s 174us/sample - loss: 0.2107\n",
      "Epoch 103/200\n",
      "6/6 [==============================] - 0s 159us/sample - loss: 0.2064\n",
      "Epoch 104/200\n",
      "6/6 [==============================] - 0s 180us/sample - loss: 0.2022\n",
      "Epoch 105/200\n",
      "6/6 [==============================] - 0s 162us/sample - loss: 0.1980\n",
      "Epoch 106/200\n",
      "6/6 [==============================] - 0s 155us/sample - loss: 0.1939\n",
      "Epoch 107/200\n",
      "6/6 [==============================] - 0s 150us/sample - loss: 0.1900\n",
      "Epoch 108/200\n",
      "6/6 [==============================] - 0s 157us/sample - loss: 0.1861\n",
      "Epoch 109/200\n",
      "6/6 [==============================] - 0s 146us/sample - loss: 0.1822\n",
      "Epoch 110/200\n",
      "6/6 [==============================] - 0s 157us/sample - loss: 0.1785\n",
      "Epoch 111/200\n",
      "6/6 [==============================] - 0s 144us/sample - loss: 0.1748\n",
      "Epoch 112/200\n",
      "6/6 [==============================] - 0s 151us/sample - loss: 0.1712\n",
      "Epoch 113/200\n",
      "6/6 [==============================] - 0s 149us/sample - loss: 0.1677\n",
      "Epoch 114/200\n",
      "6/6 [==============================] - 0s 147us/sample - loss: 0.1643\n",
      "Epoch 115/200\n",
      "6/6 [==============================] - 0s 150us/sample - loss: 0.1609\n",
      "Epoch 116/200\n",
      "6/6 [==============================] - 0s 155us/sample - loss: 0.1576\n",
      "Epoch 117/200\n",
      "6/6 [==============================] - 0s 160us/sample - loss: 0.1544\n",
      "Epoch 118/200\n",
      "6/6 [==============================] - 0s 152us/sample - loss: 0.1512\n",
      "Epoch 119/200\n",
      "6/6 [==============================] - 0s 144us/sample - loss: 0.1481\n",
      "Epoch 120/200\n",
      "6/6 [==============================] - 0s 155us/sample - loss: 0.1450\n",
      "Epoch 121/200\n",
      "6/6 [==============================] - 0s 127us/sample - loss: 0.1421\n",
      "Epoch 122/200\n",
      "6/6 [==============================] - 0s 147us/sample - loss: 0.1391\n",
      "Epoch 123/200\n",
      "6/6 [==============================] - 0s 160us/sample - loss: 0.1363\n",
      "Epoch 124/200\n",
      "6/6 [==============================] - 0s 140us/sample - loss: 0.1335\n",
      "Epoch 125/200\n",
      "6/6 [==============================] - 0s 177us/sample - loss: 0.1307\n",
      "Epoch 126/200\n",
      "6/6 [==============================] - 0s 160us/sample - loss: 0.1281\n",
      "Epoch 127/200\n",
      "6/6 [==============================] - 0s 152us/sample - loss: 0.1254\n",
      "Epoch 128/200\n",
      "6/6 [==============================] - 0s 152us/sample - loss: 0.1229\n",
      "Epoch 129/200\n",
      "6/6 [==============================] - 0s 158us/sample - loss: 0.1203\n",
      "Epoch 130/200\n",
      "6/6 [==============================] - 0s 152us/sample - loss: 0.1179\n",
      "Epoch 131/200\n",
      "6/6 [==============================] - 0s 136us/sample - loss: 0.1154\n",
      "Epoch 132/200\n",
      "6/6 [==============================] - 0s 186us/sample - loss: 0.1131\n",
      "Epoch 133/200\n",
      "6/6 [==============================] - 0s 150us/sample - loss: 0.1107\n",
      "Epoch 134/200\n",
      "6/6 [==============================] - 0s 131us/sample - loss: 0.1085\n",
      "Epoch 135/200\n",
      "6/6 [==============================] - 0s 156us/sample - loss: 0.1062\n",
      "Epoch 136/200\n",
      "6/6 [==============================] - 0s 154us/sample - loss: 0.1041\n",
      "Epoch 137/200\n",
      "6/6 [==============================] - 0s 147us/sample - loss: 0.1019\n",
      "Epoch 138/200\n",
      "6/6 [==============================] - 0s 143us/sample - loss: 0.0998\n",
      "Epoch 139/200\n",
      "6/6 [==============================] - 0s 131us/sample - loss: 0.0978\n",
      "Epoch 140/200\n",
      "6/6 [==============================] - 0s 142us/sample - loss: 0.0958\n",
      "Epoch 141/200\n",
      "6/6 [==============================] - 0s 143us/sample - loss: 0.0938\n",
      "Epoch 142/200\n",
      "6/6 [==============================] - 0s 148us/sample - loss: 0.0919\n",
      "Epoch 143/200\n",
      "6/6 [==============================] - 0s 144us/sample - loss: 0.0900\n",
      "Epoch 144/200\n",
      "6/6 [==============================] - 0s 154us/sample - loss: 0.0881\n",
      "Epoch 145/200\n",
      "6/6 [==============================] - 0s 143us/sample - loss: 0.0863\n",
      "Epoch 146/200\n",
      "6/6 [==============================] - 0s 156us/sample - loss: 0.0846\n",
      "Epoch 147/200\n",
      "6/6 [==============================] - 0s 159us/sample - loss: 0.0828\n",
      "Epoch 148/200\n",
      "6/6 [==============================] - 0s 141us/sample - loss: 0.0811\n",
      "Epoch 149/200\n",
      "6/6 [==============================] - 0s 151us/sample - loss: 0.0795\n",
      "Epoch 150/200\n",
      "6/6 [==============================] - 0s 164us/sample - loss: 0.0778\n",
      "Epoch 151/200\n",
      "6/6 [==============================] - 0s 151us/sample - loss: 0.0762\n",
      "Epoch 152/200\n",
      "6/6 [==============================] - 0s 142us/sample - loss: 0.0747\n",
      "Epoch 153/200\n",
      "6/6 [==============================] - 0s 162us/sample - loss: 0.0731\n",
      "Epoch 154/200\n",
      "6/6 [==============================] - 0s 150us/sample - loss: 0.0716\n",
      "Epoch 155/200\n",
      "6/6 [==============================] - 0s 148us/sample - loss: 0.0701\n",
      "Epoch 156/200\n",
      "6/6 [==============================] - 0s 134us/sample - loss: 0.0687\n",
      "Epoch 157/200\n",
      "6/6 [==============================] - 0s 170us/sample - loss: 0.0673\n",
      "Epoch 158/200\n",
      "6/6 [==============================] - 0s 174us/sample - loss: 0.0659\n",
      "Epoch 159/200\n",
      "6/6 [==============================] - 0s 148us/sample - loss: 0.0646\n",
      "Epoch 160/200\n",
      "6/6 [==============================] - 0s 146us/sample - loss: 0.0632\n",
      "Epoch 161/200\n",
      "6/6 [==============================] - 0s 155us/sample - loss: 0.0619\n",
      "Epoch 162/200\n",
      "6/6 [==============================] - 0s 158us/sample - loss: 0.0607\n",
      "Epoch 163/200\n",
      "6/6 [==============================] - 0s 154us/sample - loss: 0.0594\n",
      "Epoch 164/200\n",
      "6/6 [==============================] - 0s 230us/sample - loss: 0.0582\n",
      "Epoch 165/200\n",
      "6/6 [==============================] - 0s 150us/sample - loss: 0.0570\n",
      "Epoch 166/200\n",
      "6/6 [==============================] - 0s 152us/sample - loss: 0.0558\n",
      "Epoch 167/200\n",
      "6/6 [==============================] - 0s 134us/sample - loss: 0.0547\n",
      "Epoch 168/200\n",
      "6/6 [==============================] - 0s 154us/sample - loss: 0.0536\n",
      "Epoch 169/200\n",
      "6/6 [==============================] - 0s 144us/sample - loss: 0.0525\n",
      "Epoch 170/200\n",
      "6/6 [==============================] - 0s 159us/sample - loss: 0.0514\n",
      "Epoch 171/200\n",
      "6/6 [==============================] - 0s 165us/sample - loss: 0.0503\n",
      "Epoch 172/200\n",
      "6/6 [==============================] - 0s 158us/sample - loss: 0.0493\n",
      "Epoch 173/200\n",
      "6/6 [==============================] - 0s 139us/sample - loss: 0.0483\n",
      "Epoch 174/200\n",
      "6/6 [==============================] - 0s 176us/sample - loss: 0.0473\n",
      "Epoch 175/200\n",
      "6/6 [==============================] - 0s 150us/sample - loss: 0.0463\n",
      "Epoch 176/200\n",
      "6/6 [==============================] - 0s 142us/sample - loss: 0.0454\n",
      "Epoch 177/200\n",
      "6/6 [==============================] - 0s 152us/sample - loss: 0.0444\n",
      "Epoch 178/200\n",
      "6/6 [==============================] - 0s 149us/sample - loss: 0.0435\n",
      "Epoch 179/200\n",
      "6/6 [==============================] - 0s 186us/sample - loss: 0.0426\n",
      "Epoch 180/200\n",
      "6/6 [==============================] - 0s 158us/sample - loss: 0.0418\n",
      "Epoch 181/200\n",
      "6/6 [==============================] - 0s 157us/sample - loss: 0.0409\n",
      "Epoch 182/200\n",
      "6/6 [==============================] - 0s 134us/sample - loss: 0.0401\n",
      "Epoch 183/200\n",
      "6/6 [==============================] - 0s 174us/sample - loss: 0.0392\n",
      "Epoch 184/200\n",
      "6/6 [==============================] - 0s 144us/sample - loss: 0.0384\n",
      "Epoch 185/200\n",
      "6/6 [==============================] - 0s 157us/sample - loss: 0.0376\n",
      "Epoch 186/200\n",
      "6/6 [==============================] - 0s 158us/sample - loss: 0.0369\n",
      "Epoch 187/200\n",
      "6/6 [==============================] - 0s 180us/sample - loss: 0.0361\n",
      "Epoch 188/200\n",
      "6/6 [==============================] - 0s 168us/sample - loss: 0.0354\n",
      "Epoch 189/200\n",
      "6/6 [==============================] - 0s 151us/sample - loss: 0.0346\n",
      "Epoch 190/200\n",
      "6/6 [==============================] - 0s 167us/sample - loss: 0.0339\n",
      "Epoch 191/200\n",
      "6/6 [==============================] - 0s 170us/sample - loss: 0.0332\n",
      "Epoch 192/200\n",
      "6/6 [==============================] - 0s 165us/sample - loss: 0.0325\n",
      "Epoch 193/200\n",
      "6/6 [==============================] - 0s 190us/sample - loss: 0.0319\n",
      "Epoch 194/200\n",
      "6/6 [==============================] - 0s 155us/sample - loss: 0.0312\n",
      "Epoch 195/200\n",
      "6/6 [==============================] - 0s 141us/sample - loss: 0.0306\n",
      "Epoch 196/200\n",
      "6/6 [==============================] - 0s 155us/sample - loss: 0.0300\n",
      "Epoch 197/200\n",
      "6/6 [==============================] - 0s 162us/sample - loss: 0.0293\n"
     ]
    },
    {
     "name": "stdout",
     "output_type": "stream",
     "text": [
      "Epoch 198/200\n",
      "6/6 [==============================] - 0s 174us/sample - loss: 0.0287\n",
      "Epoch 199/200\n",
      "6/6 [==============================] - 0s 159us/sample - loss: 0.0281\n",
      "Epoch 200/200\n",
      "6/6 [==============================] - 0s 166us/sample - loss: 0.0276\n"
     ]
    },
    {
     "data": {
      "text/plain": [
       "<tensorflow.python.keras.callbacks.History at 0x7ff56dbd3da0>"
      ]
     },
     "execution_count": 3,
     "metadata": {},
     "output_type": "execute_result"
    }
   ],
   "source": [
    "# Create a simple Keras model.\n",
    "x = [-1, 0, 1, 2, 3, 4]\n",
    "y = [-3, -1, 1, 3, 5, 7]\n",
    "\n",
    "tf.keras.backend.clear_session()\n",
    "\n",
    "graph = {}\n",
    "graph['input'] = tf.keras.Input(shape=(1),name = 'input')\n",
    "graph['Dense_1'] = tf.keras.layers.Dense(units = 1, activation=None)(graph['input'])\n",
    "\n",
    "\n",
    "model = tf.keras.Model(inputs = graph['input'], \n",
    "                       outputs = graph['Dense_1'])\n",
    "\n",
    "model.compile(optimizer = 'sgd',\n",
    "               loss = 'MSE')\n",
    "\n",
    "display(model.summary())\n",
    "\n",
    "model.fit(x, y, epochs = 200, verbose =1)"
   ]
  },
  {
   "cell_type": "markdown",
   "metadata": {
    "colab_type": "text",
    "id": "EjsB-QICGt6L"
   },
   "source": [
    "## Generate a SavedModel"
   ]
  },
  {
   "cell_type": "code",
   "execution_count": 4,
   "metadata": {
    "colab": {},
    "colab_type": "code",
    "id": "a9xcbK7QHOfm"
   },
   "outputs": [
    {
     "name": "stdout",
     "output_type": "stream",
     "text": [
      "INFO:tensorflow:Assets written to: saved_model/1/assets\n"
     ]
    }
   ],
   "source": [
    "export_dir = 'saved_model/1'\n",
    "tf.saved_model.save(model, export_dir)"
   ]
  },
  {
   "cell_type": "markdown",
   "metadata": {
    "colab_type": "text",
    "id": "RRtsNwkiGxcO"
   },
   "source": [
    "## Convert the SavedModel to TFLite"
   ]
  },
  {
   "cell_type": "code",
   "execution_count": 5,
   "metadata": {},
   "outputs": [
    {
     "name": "stdout",
     "output_type": "stream",
     "text": [
      "INFO:tensorflow:Converted 2 variables to const ops.\n"
     ]
    }
   ],
   "source": [
    "# Convert the model.\n",
    "converter = tf.lite.TFLiteConverter.from_saved_model(export_dir)\n",
    "tflite_model = converter.convert()"
   ]
  },
  {
   "cell_type": "code",
   "execution_count": 10,
   "metadata": {},
   "outputs": [],
   "source": [
    "tflist_model_file = pathlib.Path('model.tflite')"
   ]
  },
  {
   "cell_type": "code",
   "execution_count": 12,
   "metadata": {},
   "outputs": [
    {
     "data": {
      "text/plain": [
       "676"
      ]
     },
     "execution_count": 12,
     "metadata": {},
     "output_type": "execute_result"
    }
   ],
   "source": [
    "tflist_model_file.write_bytes(tflite_model)"
   ]
  },
  {
   "cell_type": "markdown",
   "metadata": {
    "colab_type": "text",
    "id": "HgGvp2yBG25Q"
   },
   "source": [
    "## Initialize the TFLite Interpreter To Try It Out"
   ]
  },
  {
   "cell_type": "code",
   "execution_count": 14,
   "metadata": {},
   "outputs": [
    {
     "data": {
      "text/plain": [
       "<tensorflow.lite.python.interpreter.Interpreter at 0x7ff6e1655cf8>"
      ]
     },
     "execution_count": 14,
     "metadata": {},
     "output_type": "execute_result"
    }
   ],
   "source": [
    "# Load TFLite model and allocate tensors.\n",
    "interpreter = tf.lite.Interpreter(model_content = tflite_model)\n",
    "interpreter"
   ]
  },
  {
   "cell_type": "code",
   "execution_count": 15,
   "metadata": {},
   "outputs": [],
   "source": [
    "interpreter.allocate_tensors()"
   ]
  },
  {
   "cell_type": "code",
   "execution_count": 16,
   "metadata": {},
   "outputs": [
    {
     "data": {
      "text/plain": [
       "[{'name': 'input',\n",
       "  'index': 3,\n",
       "  'shape': array([1, 1], dtype=int32),\n",
       "  'dtype': numpy.float32,\n",
       "  'quantization': (0.0, 0)}]"
      ]
     },
     "execution_count": 16,
     "metadata": {},
     "output_type": "execute_result"
    }
   ],
   "source": [
    "# Get input and output tensors.\n",
    "input_details = interpreter.get_input_details()\n",
    "input_details"
   ]
  },
  {
   "cell_type": "code",
   "execution_count": 17,
   "metadata": {},
   "outputs": [
    {
     "data": {
      "text/plain": [
       "[{'name': 'Identity',\n",
       "  'index': 0,\n",
       "  'shape': array([1, 1], dtype=int32),\n",
       "  'dtype': numpy.float32,\n",
       "  'quantization': (0.0, 0)}]"
      ]
     },
     "execution_count": 17,
     "metadata": {},
     "output_type": "execute_result"
    }
   ],
   "source": [
    "output_details = interpreter.get_output_details()\n",
    "output_details"
   ]
  },
  {
   "cell_type": "code",
   "execution_count": 20,
   "metadata": {
    "colab": {},
    "colab_type": "code",
    "id": "JGYkEK08F8qK"
   },
   "outputs": [],
   "source": [
    "# Test the TensorFlow Lite model on random input data.\n",
    "input_shape = input_details[0]['shape']\n",
    "inputs, outputs = [], []\n",
    "\n",
    "for _ in range(100):\n",
    "    input_data = np.array(np.random.random_sample(input_shape), dtype=np.float32)\n",
    "    interpreter.set_tensor(input_details[0]['index'], input_data)\n",
    "    \n",
    "    interpreter.invoke()\n",
    "    tflite_results = interpreter.get_tensor(output_details[0]['index'])\n",
    "    \n",
    "    # Test the TensorFlow model on random input data\n",
    "    tf_results = model(tf.constant(input_data))\n",
    "    output_data = np.array(tf_results)\n",
    "    \n",
    "    inputs.append(input_data[0][0])\n",
    "    outputs.append(output_data[0][0])"
   ]
  },
  {
   "cell_type": "markdown",
   "metadata": {
    "colab_type": "text",
    "id": "t1gQGH1KWAgW"
   },
   "source": [
    "## Visualize the Model"
   ]
  },
  {
   "cell_type": "code",
   "execution_count": 21,
   "metadata": {
    "colab": {},
    "colab_type": "code",
    "id": "ccvQ1mEJVrqo"
   },
   "outputs": [
    {
     "data": {
      "image/png": "[encoded data removed]",
      "text/plain": [
       "<Figure size 432x288 with 1 Axes>"
      ]
     },
     "metadata": {
      "needs_background": "light"
     },
     "output_type": "display_data"
    }
   ],
   "source": [
    "plt.plot(inputs, outputs, 'r')\n",
    "plt.show()"
   ]
  }
 ],
 "metadata": {
  "accelerator": "GPU",
  "colab": {
   "collapsed_sections": [],
   "last_runtime": {
    "build_target": "//learning/brain/python/client:colab_notebook_py3",
    "kind": "private"
   },
   "name": "TFLite_Week1_Linear_Regression.ipynb",
   "private_outputs": true,
   "provenance": [],
   "toc_visible": true
  },
  "kernelspec": {
   "display_name": "Python 3",
   "language": "python",
   "name": "python3"
  },
  "language_info": {
   "codemirror_mode": {
    "name": "ipython",
    "version": 3
   },
   "file_extension": ".py",
   "mimetype": "text/x-python",
   "name": "python",
   "nbconvert_exporter": "python",
   "pygments_lexer": "ipython3",
   "version": "3.7.2"
  },
  "toc": {
   "base_numbering": 1,
   "nav_menu": {},
   "number_sections": true,
   "sideBar": true,
   "skip_h1_title": false,
   "title_cell": "Table of Contents",
   "title_sidebar": "Contents",
   "toc_cell": false,
   "toc_position": {},
   "toc_section_display": true,
   "toc_window_display": false
  }
 },
 "nbformat": 4,
 "nbformat_minor": 1
}

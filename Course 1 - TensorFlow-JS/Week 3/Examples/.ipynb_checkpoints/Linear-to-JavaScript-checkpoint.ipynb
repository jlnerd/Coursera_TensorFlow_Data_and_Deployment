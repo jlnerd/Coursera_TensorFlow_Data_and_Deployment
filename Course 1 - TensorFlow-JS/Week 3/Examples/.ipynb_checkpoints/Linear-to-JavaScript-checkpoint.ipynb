{
 "cells": [
  {
   "cell_type": "code",
   "execution_count": 1,
   "metadata": {
    "ExecuteTime": {
     "end_time": "2020-01-06T14:44:50.369457Z",
     "start_time": "2020-01-06T14:43:35.632017Z"
    },
    "colab": {
     "base_uri": "https://localhost:8080/",
     "height": 992
    },
    "colab_type": "code",
    "executionInfo": {
     "elapsed": 24002,
     "status": "ok",
     "timestamp": 1554528943726,
     "user": {
      "displayName": "Laurence Moroney",
      "photoUrl": "https://lh3.googleusercontent.com/-RcxktLY-TBk/AAAAAAAAAAI/AAAAAAAAABY/b4V4dTIqmPI/s64/photo.jpg",
      "userId": "06401446828348966425"
     },
     "user_tz": 420
    },
    "id": "pLTlDFwU1Ux_",
    "outputId": "35a170f8-c16f-48b5-a68a-d456338467eb"
   },
   "outputs": [
    {
     "name": "stdout",
     "output_type": "stream",
     "text": [
      "Collecting tensorflowjs\n",
      "\u001b[?25l  Downloading https://files.pythonhosted.org/packages/a7/73/f7ee6edced75b7dfe43916203f1b2e85dd14cba087a090e6372cbd82e462/tensorflowjs-1.4.0-py3-none-any.whl (56kB)\n",
      "\u001b[K     |████████████████████████████████| 61kB 554kB/s eta 0:00:01\n",
      "\u001b[?25hCollecting tensorflow-hub==0.5.0\n",
      "\u001b[?25l  Downloading https://files.pythonhosted.org/packages/b5/be/f18c352d84382d9c795a0f37eaf16d42ace7d161fbb0ad20bdcd5e550015/tensorflow_hub-0.5.0-py2.py3-none-any.whl (78kB)\n",
      "\u001b[K     |████████████████████████████████| 81kB 1.4MB/s eta 0:00:011\n",
      "\u001b[?25hCollecting numpy==1.16.4\n",
      "  Using cached https://files.pythonhosted.org/packages/0f/c9/3526a357b6c35e5529158fbcfac1bb3adc8827e8809a6d254019d326d1cc/numpy-1.16.4-cp36-cp36m-macosx_10_6_intel.macosx_10_9_intel.macosx_10_9_x86_64.macosx_10_10_intel.macosx_10_10_x86_64.whl\n",
      "Collecting six==1.11.0\n",
      "  Downloading https://files.pythonhosted.org/packages/67/4b/141a581104b1f6397bfa78ac9d43d8ad29a7ca43ea90a2d863fe3056e86a/six-1.11.0-py2.py3-none-any.whl\n",
      "Collecting PyInquirer==1.0.3\n",
      "  Downloading https://files.pythonhosted.org/packages/fb/4c/434b7c454010a284b49d6f1d446fe8dc5960415613d8c0225b9e2efb6724/PyInquirer-1.0.3.tar.gz\n",
      "Collecting tensorflow==1.15.0\n",
      "\u001b[?25l  Downloading https://files.pythonhosted.org/packages/fe/01/997a5d608162cf5371dae49e8cb68baaa5773b091a3e74576ea30dae51e6/tensorflow-1.15.0-cp36-cp36m-macosx_10_11_x86_64.whl (124.0MB)\n",
      "\u001b[K     |████████████████████████████████| 124.0MB 361kB/s eta 0:00:013   |███████████████████▏            | 74.4MB 2.4MB/s eta 0:00:21     |██████████████████████████▋     | 103.3MB 55kB/s eta 0:06:15\n",
      "\u001b[?25hRequirement already satisfied: h5py==2.8.0 in /Users/johnleonard/anaconda3/lib/python3.6/site-packages (from tensorflowjs) (2.8.0)\n",
      "Requirement already satisfied: gast==0.2.2 in /Users/johnleonard/anaconda3/lib/python3.6/site-packages (from tensorflowjs) (0.2.2)\n",
      "Requirement already satisfied: protobuf>=3.4.0 in /Users/johnleonard/anaconda3/lib/python3.6/site-packages (from tensorflow-hub==0.5.0->tensorflowjs) (3.6.1)\n",
      "Collecting prompt_toolkit==1.0.14\n",
      "\u001b[?25l  Downloading https://files.pythonhosted.org/packages/ee/3d/b25d35a9f0d381dd1c02d8e04b37c353caaaff4bc32150328eeebe4931f5/prompt_toolkit-1.0.14-py3-none-any.whl (248kB)\n",
      "\u001b[K     |████████████████████████████████| 256kB 16.2MB/s eta 0:00:01\n",
      "\u001b[?25hRequirement already satisfied: Pygments>=2.2.0 in /Users/johnleonard/anaconda3/lib/python3.6/site-packages (from PyInquirer==1.0.3->tensorflowjs) (2.3.1)\n",
      "Requirement already satisfied: regex>=2016.11.21 in /Users/johnleonard/anaconda3/lib/python3.6/site-packages (from PyInquirer==1.0.3->tensorflowjs) (2019.8.19)\n",
      "Requirement already satisfied: termcolor>=1.1.0 in /Users/johnleonard/anaconda3/lib/python3.6/site-packages (from tensorflow==1.15.0->tensorflowjs) (1.1.0)\n",
      "Requirement already satisfied: astor>=0.6.0 in /Users/johnleonard/anaconda3/lib/python3.6/site-packages (from tensorflow==1.15.0->tensorflowjs) (0.7.1)\n",
      "Requirement already satisfied: google-pasta>=0.1.6 in /Users/johnleonard/anaconda3/lib/python3.6/site-packages (from tensorflow==1.15.0->tensorflowjs) (0.1.8)\n",
      "Requirement already satisfied: opt-einsum>=2.3.2 in /Users/johnleonard/anaconda3/lib/python3.6/site-packages (from tensorflow==1.15.0->tensorflowjs) (3.1.0)\n",
      "Requirement already satisfied: grpcio>=1.8.6 in /Users/johnleonard/anaconda3/lib/python3.6/site-packages (from tensorflow==1.15.0->tensorflowjs) (1.11.0)\n",
      "Requirement already satisfied: wrapt>=1.11.1 in /Users/johnleonard/anaconda3/lib/python3.6/site-packages (from tensorflow==1.15.0->tensorflowjs) (1.11.1)\n",
      "Collecting tensorboard<1.16.0,>=1.15.0\n",
      "\u001b[?25l  Downloading https://files.pythonhosted.org/packages/1e/e9/d3d747a97f7188f48aa5eda486907f3b345cd409f0a0850468ba867db246/tensorboard-1.15.0-py3-none-any.whl (3.8MB)\n",
      "\u001b[K     |████████████████████████████████| 3.8MB 2.1MB/s eta 0:00:011\n",
      "\u001b[?25hRequirement already satisfied: keras-applications>=1.0.8 in /Users/johnleonard/anaconda3/lib/python3.6/site-packages (from tensorflow==1.15.0->tensorflowjs) (1.0.8)\n",
      "Requirement already satisfied: wheel>=0.26 in /Users/johnleonard/anaconda3/lib/python3.6/site-packages (from tensorflow==1.15.0->tensorflowjs) (0.33.6)\n",
      "Requirement already satisfied: absl-py>=0.7.0 in /Users/johnleonard/anaconda3/lib/python3.6/site-packages (from tensorflow==1.15.0->tensorflowjs) (0.8.1)\n",
      "Requirement already satisfied: keras-preprocessing>=1.0.5 in /Users/johnleonard/anaconda3/lib/python3.6/site-packages (from tensorflow==1.15.0->tensorflowjs) (1.0.5)\n",
      "Collecting tensorflow-estimator==1.15.1\n",
      "\u001b[?25l  Downloading https://files.pythonhosted.org/packages/de/62/2ee9cd74c9fa2fa450877847ba560b260f5d0fb70ee0595203082dafcc9d/tensorflow_estimator-1.15.1-py2.py3-none-any.whl (503kB)\n",
      "\u001b[K     |████████████████████████████████| 512kB 1.9MB/s eta 0:00:01\n",
      "\u001b[?25hRequirement already satisfied: setuptools in /Users/johnleonard/anaconda3/lib/python3.6/site-packages (from protobuf>=3.4.0->tensorflow-hub==0.5.0->tensorflowjs) (41.2.0)\n",
      "Requirement already satisfied: wcwidth in /Users/johnleonard/anaconda3/lib/python3.6/site-packages (from prompt_toolkit==1.0.14->PyInquirer==1.0.3->tensorflowjs) (0.1.7)\n",
      "Requirement already satisfied: markdown>=2.6.8 in /Users/johnleonard/anaconda3/lib/python3.6/site-packages (from tensorboard<1.16.0,>=1.15.0->tensorflow==1.15.0->tensorflowjs) (3.0.1)\n",
      "Requirement already satisfied: werkzeug>=0.11.15 in /Users/johnleonard/anaconda3/lib/python3.6/site-packages (from tensorboard<1.16.0,>=1.15.0->tensorflow==1.15.0->tensorflowjs) (0.15.2)\n",
      "Building wheels for collected packages: PyInquirer\n",
      "  Building wheel for PyInquirer (setup.py) ... \u001b[?25ldone\n",
      "\u001b[?25h  Created wheel for PyInquirer: filename=PyInquirer-1.0.3-cp36-none-any.whl size=32853 sha256=76b5e02c6ede4d20dad571f4a1af8017af3c785d7dbddc16a72709afb296ad5f\n",
      "  Stored in directory: /Users/johnleonard/Library/Caches/pip/wheels/52/6c/b1/3e4b0e8daf42a92883c7641c0ea8ffb62e0490ebed2faa55ad\n",
      "Successfully built PyInquirer\n",
      "\u001b[31mERROR: warlock 1.3.0 has requirement jsonschema<3,>=0.7, but you'll have jsonschema 3.0.1 which is incompatible.\u001b[0m\n",
      "\u001b[31mERROR: turitrove 1.5.0 has requirement beautifulsoup4==4.6.0, but you'll have beautifulsoup4 4.7.1 which is incompatible.\u001b[0m\n",
      "\u001b[31mERROR: turitrove 1.5.0 has requirement boto3==1.4.8, but you'll have boto3 1.10.8 which is incompatible.\u001b[0m\n",
      "\u001b[31mERROR: turitrove 1.5.0 has requirement jinja2==2.10, but you'll have jinja2 2.10.1 which is incompatible.\u001b[0m\n",
      "\u001b[31mERROR: turitrove 1.5.0 has requirement PyYAML==3.12, but you'll have pyyaml 3.13 which is incompatible.\u001b[0m\n",
      "\u001b[31mERROR: turitrove 1.5.0 has requirement requests==2.18.4, but you'll have requests 2.21.0 which is incompatible.\u001b[0m\n",
      "\u001b[31mERROR: turitrove 1.5.0 has requirement six==1.10.0, but you'll have six 1.11.0 which is incompatible.\u001b[0m\n",
      "\u001b[31mERROR: trove 11.0.0 has requirement jsonschema<3.0.0,>=2.6.0, but you'll have jsonschema 3.0.1 which is incompatible.\u001b[0m\n",
      "\u001b[31mERROR: s3zip 3.0.2 has requirement boto3==1.4.8, but you'll have boto3 1.10.8 which is incompatible.\u001b[0m\n",
      "\u001b[31mERROR: s3zip 3.0.2 has requirement numpy<1.15.0, but you'll have numpy 1.16.4 which is incompatible.\u001b[0m\n",
      "\u001b[31mERROR: s3zip 3.0.2 has requirement psutil<=5.3.1,>=5.2.2, but you'll have psutil 5.6.1 which is incompatible.\u001b[0m\n",
      "\u001b[31mERROR: python-designateclient 2.11.0 has requirement jsonschema<3.0.0,>=2.6.0, but you'll have jsonschema 3.0.1 which is incompatible.\u001b[0m\n",
      "\u001b[31mERROR: mxnet 1.1.0.post0 has requirement numpy<1.15.0,>=1.8.2, but you'll have numpy 1.16.4 which is incompatible.\u001b[0m\n",
      "\u001b[31mERROR: mxnet 1.1.0.post0 has requirement requests<2.19.0,>=2.18.4, but you'll have requests 2.21.0 which is incompatible.\u001b[0m\n",
      "\u001b[31mERROR: jupyter-console 6.0.0 has requirement prompt_toolkit<2.1.0,>=2.0.0, but you'll have prompt-toolkit 1.0.14 which is incompatible.\u001b[0m\n",
      "\u001b[31mERROR: jlpyutils 0.1.4 has requirement numpy==1.17.1, but you'll have numpy 1.16.4 which is incompatible.\u001b[0m\n",
      "\u001b[31mERROR: ipython 7.4.0 has requirement prompt-toolkit<2.1.0,>=2.0.0, but you'll have prompt-toolkit 1.0.14 which is incompatible.\u001b[0m\n",
      "\u001b[31mERROR: diskimage-builder 2.22.0 has requirement flake8<2.6.0,>=2.5.4, but you'll have flake8 3.7.8 which is incompatible.\u001b[0m\n",
      "\u001b[31mERROR: datalab 1.1.4 has requirement six==1.10.0, but you'll have six 1.11.0 which is incompatible.\u001b[0m\n",
      "\u001b[31mERROR: awscli 1.16.195 has requirement botocore==1.12.185, but you'll have botocore 1.13.8 which is incompatible.\u001b[0m\n",
      "Installing collected packages: six, numpy, tensorflow-hub, prompt-toolkit, PyInquirer, tensorboard, tensorflow-estimator, tensorflow, tensorflowjs\n",
      "  Found existing installation: six 1.12.0\n",
      "    Uninstalling six-1.12.0:\n"
     ]
    },
    {
     "name": "stdout",
     "output_type": "stream",
     "text": [
      "      Successfully uninstalled six-1.12.0\n",
      "  Found existing installation: numpy 1.17.3\n",
      "    Uninstalling numpy-1.17.3:\n",
      "      Successfully uninstalled numpy-1.17.3\n",
      "  Found existing installation: prompt-toolkit 2.0.9\n",
      "    Uninstalling prompt-toolkit-2.0.9:\n",
      "      Successfully uninstalled prompt-toolkit-2.0.9\n",
      "  Found existing installation: tensorboard 2.0.2\n",
      "    Uninstalling tensorboard-2.0.2:\n",
      "      Successfully uninstalled tensorboard-2.0.2\n",
      "  Found existing installation: tensorflow-estimator 2.0.1\n",
      "    Uninstalling tensorflow-estimator-2.0.1:\n",
      "      Successfully uninstalled tensorflow-estimator-2.0.1\n",
      "  Found existing installation: tensorflow 2.0.0\n",
      "    Uninstalling tensorflow-2.0.0:\n",
      "      Successfully uninstalled tensorflow-2.0.0\n",
      "Successfully installed PyInquirer-1.0.3 numpy-1.16.4 prompt-toolkit-1.0.14 six-1.12.0 tensorboard-1.15.0 tensorflow-1.15.0 tensorflow-estimator-1.15.1 tensorflow-hub-0.5.0 tensorflowjs-1.4.0\n"
     ]
    }
   ],
   "source": [
    "!pip install tensorflowjs"
   ]
  },
  {
   "cell_type": "code",
   "execution_count": 2,
   "metadata": {
    "ExecuteTime": {
     "end_time": "2020-01-06T14:44:56.862356Z",
     "start_time": "2020-01-06T14:44:50.379259Z"
    },
    "colab": {
     "base_uri": "https://localhost:8080/",
     "height": 18235
    },
    "colab_type": "code",
    "executionInfo": {
     "elapsed": 7152,
     "status": "ok",
     "timestamp": 1554528613939,
     "user": {
      "displayName": "Laurence Moroney",
      "photoUrl": "https://lh3.googleusercontent.com/-RcxktLY-TBk/AAAAAAAAAAI/AAAAAAAAABY/b4V4dTIqmPI/s64/photo.jpg",
      "userId": "06401446828348966425"
     },
     "user_tz": 420
    },
    "id": "vNHv1d2K0Wxg",
    "outputId": "109c8bc7-6d51-4f0a-d3a6-f2943221ff49"
   },
   "outputs": [
    {
     "name": "stdout",
     "output_type": "stream",
     "text": [
      "• Using TensorFlow Version: 1.15.0\n"
     ]
    }
   ],
   "source": [
    "import numpy as np\n",
    "import tensorflow as tf\n",
    "\n",
    "print('\\u2022 Using TensorFlow Version:', tf.__version__)"
   ]
  },
  {
   "cell_type": "code",
   "execution_count": null,
   "metadata": {},
   "outputs": [],
   "source": [
    "model = tf.keras.models.Sequential([\n",
    "        tf.keras.layers.Dense(units=1, input_shape=[1])  \n",
    "])\n",
    "\n",
    "model.compile(optimizer='sgd', loss='mean_squared_error')\n",
    "\n",
    "xs = np.array([-1.0,  0.0, 1.0, 2.0, 3.0, 4.0], dtype=float)\n",
    "ys = np.array([-3.0, -1.0, 1.0, 3.0, 5.0, 7.0], dtype=float)\n",
    "\n",
    "model.fit(xs, ys, epochs=500)"
   ]
  },
  {
   "cell_type": "code",
   "execution_count": null,
   "metadata": {
    "colab": {
     "base_uri": "https://localhost:8080/",
     "height": 35
    },
    "colab_type": "code",
    "executionInfo": {
     "elapsed": 592,
     "status": "ok",
     "timestamp": 1554528625827,
     "user": {
      "displayName": "Laurence Moroney",
      "photoUrl": "https://lh3.googleusercontent.com/-RcxktLY-TBk/AAAAAAAAAAI/AAAAAAAAABY/b4V4dTIqmPI/s64/photo.jpg",
      "userId": "06401446828348966425"
     },
     "user_tz": 420
    },
    "id": "AxSZ4DzJGEKy",
    "outputId": "00023ac5-58cb-4e09-9ac0-9ae8ae59f846"
   },
   "outputs": [],
   "source": [
    "print(model.predict([10.0]))"
   ]
  },
  {
   "cell_type": "code",
   "execution_count": null,
   "metadata": {},
   "outputs": [],
   "source": [
    "import time\n",
    "saved_model_path = \"./{}.h5\".format(int(time.time()))\n",
    "\n",
    "model.save(saved_model_path)"
   ]
  },
  {
   "cell_type": "code",
   "execution_count": null,
   "metadata": {},
   "outputs": [],
   "source": [
    "!tensorflowjs_converter --input_format=keras {saved_model_path} ./"
   ]
  }
 ],
 "metadata": {
  "accelerator": "GPU",
  "colab": {
   "collapsed_sections": [],
   "name": "Linear-to-JavaScript.ipynb",
   "provenance": [
    {
     "file_id": "1Aa_6zgDr53IyYdkyubWPvCJYTGzo7Ttr",
     "timestamp": 1554494369207
    }
   ],
   "version": "0.3.2"
  },
  "kernelspec": {
   "display_name": "Python 3",
   "language": "python",
   "name": "python3"
  },
  "language_info": {
   "codemirror_mode": {
    "name": "ipython",
    "version": 3
   },
   "file_extension": ".py",
   "mimetype": "text/x-python",
   "name": "python",
   "nbconvert_exporter": "python",
   "pygments_lexer": "ipython3",
   "version": "3.6.8"
  },
  "toc": {
   "base_numbering": 1,
   "nav_menu": {},
   "number_sections": true,
   "sideBar": true,
   "skip_h1_title": false,
   "title_cell": "Table of Contents",
   "title_sidebar": "Contents",
   "toc_cell": false,
   "toc_position": {},
   "toc_section_display": true,
   "toc_window_display": false
  },
  "varInspector": {
   "cols": {
    "lenName": 16,
    "lenType": 16,
    "lenVar": 40
   },
   "kernels_config": {
    "python": {
     "delete_cmd_postfix": "",
     "delete_cmd_prefix": "del ",
     "library": "var_list.py",
     "varRefreshCmd": "print(var_dic_list())"
    },
    "r": {
     "delete_cmd_postfix": ") ",
     "delete_cmd_prefix": "rm(",
     "library": "var_list.r",
     "varRefreshCmd": "cat(var_dic_list()) "
    }
   },
   "types_to_exclude": [
    "module",
    "function",
    "builtin_function_or_method",
    "instance",
    "_Feature"
   ],
   "window_display": false
  }
 },
 "nbformat": 4,
 "nbformat_minor": 1
}
